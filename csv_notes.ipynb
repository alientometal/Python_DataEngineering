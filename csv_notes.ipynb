{
 "cells": [
  {
   "cell_type": "code",
   "execution_count": 1,
   "metadata": {},
   "outputs": [],
   "source": [
    "import csv"
   ]
  },
  {
   "cell_type": "code",
   "execution_count": 149,
   "metadata": {},
   "outputs": [],
   "source": [
    "def process_file_csv(source_path, target_path):\n",
    "    \n",
    "    with open(source_path, \"r\") as source_file:\n",
    "        source_file = csv.reader(source_file)\n",
    "        \n",
    "        header = next(source_file)\n",
    "        # Change header row to CAPS\n",
    "        header = [column.upper() for column in header]\n",
    "        header.append(\"MEDIAN_AGE_HOUSE_VALUE_RATIO\")\n",
    "        \n",
    "        rows = [header]\n",
    "        \n",
    "        for row in source_file:\n",
    "            # change housing median age to integer\n",
    "            row[2] = int(float(row[2]))\n",
    "            \n",
    "            # Add new column and calculate the ratio\n",
    "            median_age_house_value_ratio = row[2] / float(row[8]) * 100\n",
    "            row.append(median_age_house_value_ratio)\n",
    "            \n",
    "            rows.append(row)\n",
    "    \n",
    "    with open(target_path, \"w\", newline='') as target_file:\n",
    "        writer = csv.writer(target_file, delimiter=\"|\")\n",
    "        writer.writerows(rows)\n",
    "        \n",
    "source_path = \"sample_data\\california_housing_test.csv\"\n",
    "target_path = \"sample_data\\california_housing_test_2.csv\"\n",
    "\n",
    "process_file_csv(source_path, target_path)"
   ]
  },
  {
   "cell_type": "code",
   "execution_count": 145,
   "metadata": {},
   "outputs": [],
   "source": []
  },
  {
   "cell_type": "code",
   "execution_count": 99,
   "metadata": {},
   "outputs": [],
   "source": [
    "source_file = open(source_path, \"r\")"
   ]
  },
  {
   "cell_type": "code",
   "execution_count": 100,
   "metadata": {},
   "outputs": [],
   "source": [
    "reader = csv.reader(source_file)"
   ]
  },
  {
   "cell_type": "code",
   "execution_count": 128,
   "metadata": {},
   "outputs": [
    {
     "data": {
      "text/plain": [
       "'52.000000'"
      ]
     },
     "execution_count": 128,
     "metadata": {},
     "output_type": "execute_result"
    }
   ],
   "source": [
    "next(reader)[2]"
   ]
  },
  {
   "cell_type": "code",
   "execution_count": 97,
   "metadata": {},
   "outputs": [],
   "source": [
    "source_file.close()"
   ]
  }
 ],
 "metadata": {
  "kernelspec": {
   "display_name": "base",
   "language": "python",
   "name": "python3"
  },
  "language_info": {
   "codemirror_mode": {
    "name": "ipython",
    "version": 3
   },
   "file_extension": ".py",
   "mimetype": "text/x-python",
   "name": "python",
   "nbconvert_exporter": "python",
   "pygments_lexer": "ipython3",
   "version": "3.9.12"
  }
 },
 "nbformat": 4,
 "nbformat_minor": 2
}
