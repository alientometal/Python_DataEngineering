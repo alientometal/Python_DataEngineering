{
 "cells": [
  {
   "attachments": {},
   "cell_type": "markdown",
   "metadata": {},
   "source": [
    "# Data Validation\n",
    "\n",
    "Data validation is an essential part of any application. It helps to make sure that the data you're working with meets specific criteria, and it can help prevent errors and ensure data integrity.\n",
    "\n",
    "In Python, there are various ways to perform data validation, depending on the data type and the nature of the application. Lets cover some basic techniques for validating data.\n"
   ]
  },
  {
   "attachments": {},
   "cell_type": "markdown",
   "metadata": {},
   "source": [
    "\n",
    "### Direct Comparison\n",
    "\n",
    "For simple cases, you can use Python's comparison operators (`==`, `!=`, `<`, `<=`, `>`, `>=`) to validate data.\n"
   ]
  },
  {
   "cell_type": "code",
   "execution_count": null,
   "metadata": {},
   "outputs": [],
   "source": [
    "def validate_age(age):\n",
    "    if age >= 18:\n",
    "        print(\"You are eligible to vote.\")\n",
    "    else:\n",
    "        print(\"You are not eligible to vote.\")"
   ]
  },
  {
   "attachments": {},
   "cell_type": "markdown",
   "metadata": {},
   "source": [
    "\n",
    "### Using Built-In Functions\n",
    "\n",
    "Python's built-in functions can help with data validation. For example, you can use `isinstance()` to check if a variable is of a certain type.\n"
   ]
  },
  {
   "cell_type": "code",
   "execution_count": null,
   "metadata": {},
   "outputs": [],
   "source": [
    "def validate_data(data):\n",
    "    if isinstance(data, str):\n",
    "        print(\"Data is a string.\")\n",
    "    elif isinstance(data, int):\n",
    "        print(\"Data is an integer.\")\n",
    "    else:\n",
    "        print(\"Data type is not recognized.\")"
   ]
  },
  {
   "attachments": {},
   "cell_type": "markdown",
   "metadata": {},
   "source": [
    "\n",
    "### Regular Expressions\n",
    "\n",
    "For more complex data patterns, you can use regular expressions with Python's `re` module. This is particularly useful for validating string data.\n"
   ]
  },
  {
   "cell_type": "code",
   "execution_count": null,
   "metadata": {},
   "outputs": [],
   "source": [
    "import re\n",
    "\n",
    "def validate_email(email):\n",
    "    pattern = r'\\\\b[A-Za-z0-9._%+-]+@[A-Za-z0-9.-]+\\\\.[A-Z|a-z]{2,}\\\\b'\n",
    "    if re.fullmatch(pattern, email):\n",
    "        print(\"Email is valid.\")\n",
    "    else:\n",
    "        print(\"Email is not valid.\")"
   ]
  },
  {
   "attachments": {},
   "cell_type": "markdown",
   "metadata": {},
   "source": [
    "\n",
    "### Custom Validation Functions\n",
    "\n",
    "For complex validation logic, you can write your own functions.\n"
   ]
  },
  {
   "cell_type": "code",
   "execution_count": null,
   "metadata": {},
   "outputs": [],
   "source": [
    "def validate_password(password):\n",
    "    if len(password) < 8:\n",
    "        print(\"Password is too short.\")\n",
    "    elif not any(char.isdigit() for char in password):\n",
    "        print(\"Password should have at least one digit.\")\n",
    "    elif not any(char.isalpha() for char in password):\n",
    "        print(\"Password should have at least one letter.\")\n",
    "    else:\n",
    "        print(\"Password is valid.\")"
   ]
  },
  {
   "attachments": {},
   "cell_type": "markdown",
   "metadata": {},
   "source": [
    "\n",
    "# Using Validation Libraries\n",
    "\n",
    "For complex applications, it might be worthwhile to use a dedicated data validation library like `pydantic`, `voluptuous`, `marshmallow`, `schema`, etc. These libraries provide powerful features for data validation."
   ]
  },
  {
   "cell_type": "code",
   "execution_count": null,
   "metadata": {},
   "outputs": [],
   "source": [
    "from pydantic import BaseModel, EmailStr, ValidationError\n",
    "\n",
    "class User(BaseModel):\n",
    "    name: str\n",
    "    email: EmailStr\n",
    "    age: int\n",
    "\n",
    "try:\n",
    "    User(name=\"John Doe\", email=\"john.doe\", age=\"twenty\")\n",
    "except ValidationError as e:\n",
    "    print(e)"
   ]
  },
  {
   "attachments": {},
   "cell_type": "markdown",
   "metadata": {},
   "source": [
    "\n",
    "\n",
    "This will output:\n",
    "\n",
    "```python\n",
    "1 validation error for User\n",
    "email\n",
    "  value is not a valid email address (type=value_error.email)\n",
    "\n",
    "```\n",
    "\n",
    "Remember, how you validate data depends heavily on your specific use case. The goal is to ensure that the data you're working with is accurate, consistent, and reliable."
   ]
  },
  {
   "attachments": {},
   "cell_type": "markdown",
   "metadata": {},
   "source": [
    "\n",
    "> Content created by [**Carlos Cruz-Maldonado**](https://www.linkedin.com/in/carloscruzmaldonado/).  \n",
    "> I am available to answer any questions or provide further assistance.   \n",
    "> Feel free to reach out to me at any time."
   ]
  }
 ],
 "metadata": {
  "language_info": {
   "name": "python"
  },
  "orig_nbformat": 4
 },
 "nbformat": 4,
 "nbformat_minor": 2
}
