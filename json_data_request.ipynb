{
  "cells": [
    {
      "cell_type": "markdown",
      "metadata": {
        "id": "CnragRku1hsh"
      },
      "source": [
        "### Exercise: Retrieve and Manage JSON Data from a GitHub Repository\n",
        "\n",
        "#### Objective:\n",
        "In this exercise, you will write a Python script to retrieve JSON data from a specified directory in a GitHub repository. This will test your ability to work with APIs, handle file directories, and manage basic data engineering tasks.\n",
        "\n",
        "#### Instructions:\n",
        "Here is a partially completed script. Your task is to fill in the missing parts of the script to successfully download the files from the GitHub repository.\n",
        "\n",
        "\n",
        "#### Steps to Follow:\n",
        "\n",
        "1. **Setup the repository and branch details:**\n",
        "   - Repository: `alientometal/training_datasets`\n",
        "   - Branch: `main`\n",
        "   - Directory: `data`\n",
        "\n",
        "2. **Complete the Script:**\n",
        "   - Fill in the missing parts of the provided script to download the files from the specified GitHub directory.\n",
        "   - Ensure that the script handles the creation of the local directory if it does not exist.\n",
        "   - Write a function to download individual files from the GitHub repository."
      ]
    },
    {
      "cell_type": "code",
      "execution_count": null,
      "metadata": {
        "id": "9kwrt-Ia1hsu"
      },
      "outputs": [],
      "source": [
        "import os\n",
        "import requests\n",
        "\n",
        "repo =\n",
        "branch =\n",
        "directory =\n",
        "\n",
        "def download_directory_from_github(repo, directory, branch='main', local_dir='local_s3_like_directory'):\n",
        "    api_url = f'https://api.github.com/repos/{repo}/contents/{directory}?ref={branch}'\n",
        "    headers = {'Accept': 'application/vnd.github.v3+json'}\n",
        "\n",
        "    # Send a GET request to the GitHub API\n",
        "\n",
        "    # Raise an exception if the request was unsuccessful\n",
        "\n",
        "    # Parse the JSON response\n",
        "\n",
        "\n",
        "    # Create the local directory if it doesn't exist\n",
        "\n",
        "\n",
        "\n",
        "    for item in contents:\n",
        "        if item['type'] == 'file':\n",
        "            file_url = item['download_url']\n",
        "            local_path = os.path.join(local_dir, item['name'])\n",
        "            # Call the function to download the file\n",
        "\n",
        "\n",
        "# Define the function to download the file\n",
        "def download_file(url, local_path):\n",
        "    # Send a GET request to download the file\n",
        "\n",
        "    # Raise an exception if the request was unsuccessful\n",
        "\n",
        "    # Write the file content to the local path\n",
        "    with open(local_path, 'wb') as file:\n",
        "\n",
        "    print(f\"Downloaded {local_path}\")\n",
        "\n",
        "# Call the function to start the download process\n"
      ]
    },
    {
      "cell_type": "markdown",
      "metadata": {
        "id": "1OzgCoXG1hsx"
      },
      "source": [
        "#### Additional Challenges (Optional):\n",
        "- Modify the script to download files from multiple directories within the repository.\n",
        "- Enhance the script to handle different file formats, such as CSV or XML, in addition to JSON.\n",
        "- Add logging functionality to track the progress and any errors during the download process.\n",
        "\n",
        "Good luck!"
      ]
    },
    {
      "cell_type": "code",
      "source": [
        "import requests\n",
        "\n",
        "response =requests.get(\"https://rickandmortyapi.com/api/character\")"
      ],
      "metadata": {
        "id": "amrcpn977Is6"
      },
      "execution_count": 3,
      "outputs": []
    },
    {
      "cell_type": "code",
      "source": [
        "response.status_code == 200"
      ],
      "metadata": {
        "id": "ZhrQGuIa7mHt",
        "outputId": "9a5db53c-b364-4e85-9a01-d860e4216525",
        "colab": {
          "base_uri": "https://localhost:8080/"
        }
      },
      "execution_count": 16,
      "outputs": [
        {
          "output_type": "execute_result",
          "data": {
            "text/plain": [
              "True"
            ]
          },
          "metadata": {},
          "execution_count": 16
        }
      ]
    },
    {
      "cell_type": "code",
      "source": [
        "json = response.json()"
      ],
      "metadata": {
        "id": "P51Ox6x97tAL"
      },
      "execution_count": 7,
      "outputs": []
    },
    {
      "cell_type": "code",
      "source": [
        "character.keys()"
      ],
      "metadata": {
        "id": "JvZhWdlZ8twP",
        "outputId": "9ce4f6d9-ddca-46ed-c104-4ccca4e9def5",
        "colab": {
          "base_uri": "https://localhost:8080/"
        }
      },
      "execution_count": 14,
      "outputs": [
        {
          "output_type": "execute_result",
          "data": {
            "text/plain": [
              "dict_keys(['id', 'name', 'status', 'species', 'type', 'gender', 'origin', 'location', 'image', 'episode', 'url', 'created'])"
            ]
          },
          "metadata": {},
          "execution_count": 14
        }
      ]
    },
    {
      "cell_type": "code",
      "source": [
        "characters = json['results']\n",
        "for character in characters:\n",
        "    print(character['name'], character['species'])"
      ],
      "metadata": {
        "id": "Q2Qz3MJc79k-",
        "outputId": "e0b3c82c-b2e4-4693-ce24-1ea68dc80332",
        "colab": {
          "base_uri": "https://localhost:8080/"
        }
      },
      "execution_count": 15,
      "outputs": [
        {
          "output_type": "stream",
          "name": "stdout",
          "text": [
            "Rick Sanchez Human\n",
            "Morty Smith Human\n",
            "Summer Smith Human\n",
            "Beth Smith Human\n",
            "Jerry Smith Human\n",
            "Abadango Cluster Princess Alien\n",
            "Abradolf Lincler Human\n",
            "Adjudicator Rick Human\n",
            "Agency Director Human\n",
            "Alan Rails Human\n",
            "Albert Einstein Human\n",
            "Alexander Human\n",
            "Alien Googah Alien\n",
            "Alien Morty Alien\n",
            "Alien Rick Alien\n",
            "Amish Cyborg Alien\n",
            "Annie Human\n",
            "Antenna Morty Human\n",
            "Antenna Rick Human\n",
            "Ants in my Eyes Johnson Human\n"
          ]
        }
      ]
    },
    {
      "cell_type": "code",
      "source": [
        "import os\n",
        "for character in characters:\n",
        "  os.mkdir(os.path.join('data', character['name']))"
      ],
      "metadata": {
        "id": "_JGYCOUu9Jxj"
      },
      "execution_count": 19,
      "outputs": []
    }
  ],
  "metadata": {
    "kernelspec": {
      "display_name": "base",
      "language": "python",
      "name": "python3"
    },
    "language_info": {
      "codemirror_mode": {
        "name": "ipython",
        "version": 3
      },
      "file_extension": ".py",
      "mimetype": "text/x-python",
      "name": "python",
      "nbconvert_exporter": "python",
      "pygments_lexer": "ipython3",
      "version": "3.9.12"
    },
    "colab": {
      "provenance": []
    }
  },
  "nbformat": 4,
  "nbformat_minor": 0
}