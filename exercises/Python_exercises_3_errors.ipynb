{
 "cells": [
  {
   "attachments": {},
   "cell_type": "markdown",
   "metadata": {},
   "source": [
    "# Common error solving exercises"
   ]
  },
  {
   "attachments": {},
   "cell_type": "markdown",
   "metadata": {},
   "source": [
    "The goal of these exercises is to analyze the code, identify the errors, and correct them. The exercises are designed to help you identify and fix errors while practicing problem-solving skills and understanding basic Python concepts. I highly encourage you to use search engines, read the error messages, and consult Python documentation to find the solutions.  \n",
    "\n",
    "After having attempted to correct the errors, I will provide you the corrected code and discuss the changes made.\n",
    "\n",
    "**Remember: There is no absolute answer when it comes to problem-solving. Be creative and think outside the box to find innovative solutions.**\n"
   ]
  },
  {
   "attachments": {},
   "cell_type": "markdown",
   "metadata": {},
   "source": [
    "## Exercise: Correct the Errors\n",
    "\n",
    "The following code snippet is intended to define a function that takes two numbers, performs various arithmetic operations, and prints the results. However, it contains multiple errors. Identify and correct these errors to make the code run as intended."
   ]
  },
  {
   "cell_type": "code",
   "execution_count": null,
   "metadata": {},
   "outputs": [],
   "source": [
    "def arithmetic_operations(num1, num2)\n",
    "    sum = num1 + num2\n",
    "    difference = num1 - num2\n",
    "    product = num1 * num2\n",
    "    quotient = num1 / num2\n",
    "    remainder = num1 % num2\n",
    "\n",
    "    print(\"Sum:\", sum)\n",
    "    print(\"Difference:\", difference)\n",
    "    print(\"Product:\", product)\n",
    "    print(\"Quotient:\", quotient)\n",
    "    print(\"Remainder:\", remainder)\n",
    "\n",
    "arithmetic_operations(10, 0)"
   ]
  },
  {
   "attachments": {},
   "cell_type": "markdown",
   "metadata": {},
   "source": [
    "**Hints:**\n",
    "\n",
    "1. Syntax error: check the function definition.\n",
    "2. Division by zero: handle the error appropriately.\n",
    "3. Variable name conflict: there might be a conflict between variable names and built-in function names."
   ]
  },
  {
   "attachments": {},
   "cell_type": "markdown",
   "metadata": {},
   "source": [
    "## Exercise: Fix the List Manipulation Errors\n",
    "\n",
    "The following code snippet is intended to define a function that takes a list of integers, doubles each element, removes elements that are multiples of 3, and returns the resulting list in reverse order. However, it contains multiple errors. Identify and correct these errors to make the code run as intended."
   ]
  },
  {
   "cell_type": "code",
   "execution_count": null,
   "metadata": {},
   "outputs": [],
   "source": [
    "def manipulate_list(lst):\n",
    "    doubled = lst.map(lambda x: x * 2)\n",
    "    no_multiples_of_3 = [x for x in doubled if x % 3 != 0]\n",
    "    reversed_list = no_multiples_of_3.reverse()\n",
    "\n",
    "    return reversed_list\n",
    "\n",
    "input_list = [1, 2, 3, 4, 5, 6, 7, 8, 9]\n",
    "result = manipulate_list(input_list)\n",
    "print(result)"
   ]
  },
  {
   "attachments": {},
   "cell_type": "markdown",
   "metadata": {},
   "source": [
    "**Hints:**\n",
    "\n",
    "1. Method error: check the list method used for doubling the elements.\n",
    "2. Function error: check the list method used for reversing the list."
   ]
  },
  {
   "attachments": {},
   "cell_type": "markdown",
   "metadata": {},
   "source": [
    "> Content created by [**Carlos Cruz-Maldonado**](https://www.linkedin.com/in/carloscruzmaldonado/).  \n",
    "> I am available to answer any questions or provide further assistance.   \n",
    "> Feel free to reach out to me at any time."
   ]
  }
 ],
 "metadata": {
  "kernelspec": {
   "display_name": "personal",
   "language": "python",
   "name": "python3"
  },
  "language_info": {
   "codemirror_mode": {
    "name": "ipython",
    "version": 3
   },
   "file_extension": ".py",
   "mimetype": "text/x-python",
   "name": "python",
   "nbconvert_exporter": "python",
   "pygments_lexer": "ipython3",
   "version": "3.7.9"
  },
  "orig_nbformat": 4
 },
 "nbformat": 4,
 "nbformat_minor": 2
}
