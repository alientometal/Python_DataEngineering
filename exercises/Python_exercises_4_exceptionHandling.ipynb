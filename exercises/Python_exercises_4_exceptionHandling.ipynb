{
 "cells": [
  {
   "attachments": {},
   "cell_type": "markdown",
   "metadata": {},
   "source": [
    "# Error and Exception Handling in Python\n",
    "\n",
    "In Python, there are (at least) two types of errors: syntax errors and exceptions.\n",
    "\n",
    "### Syntax Errors:\n",
    "\n",
    "Also known as parsing errors, these are perhaps the most common kind of complaint you get while learning Python.\n",
    "\n",
    "```python\n",
    ">>> while True print('Hello world')\n",
    "  File \"<stdin>\", line 1\n",
    "    while True print('Hello world')\n",
    "                   ^\n",
    "SyntaxError: invalid syntax\n",
    "```\n",
    "\n",
    "### Exceptions:\n",
    "\n",
    "Even if a statement or expression is syntactically correct, it may cause an error when an attempt is made to execute it. Errors detected during execution are called exceptions. Examples include ZeroDivisionError, TypeError, ValueError, etc.\n",
    "\n",
    "```python\n",
    ">>> 10 * (1/0)\n",
    "Traceback (most recent call last):\n",
    "  File \"<stdin>\", line 1, in <module>\n",
    "ZeroDivisionError: division by zero\n",
    "\n",
    ">>> '2' + 2\n",
    "Traceback (most recent call last):\n",
    "  File \"<stdin>\", line 1, in <module>\n",
    "TypeError: can only concatenate str (not \"int\") to str\n",
    "```\n",
    "\n",
    "To handle exceptions, Python has `try`...`except` statements. Here is a basic example:\n",
    "\n",
    "```python\n",
    "try:\n",
    "    x = 1 / 0  # This will raise a ZeroDivisionError\n",
    "except ZeroDivisionError:\n",
    "    x = 0  # We handle the error by assigning 0 to x\n",
    "```"
   ]
  },
  {
   "attachments": {},
   "cell_type": "markdown",
   "metadata": {},
   "source": [
    "# Exercise: Basic Exception Handling\n",
    "\n",
    "Write a Python function that takes two arguments, divides the first argument by the second argument, and prints the result. The function should handle the `ZeroDivisionError` exception."
   ]
  },
  {
   "cell_type": "code",
   "execution_count": null,
   "metadata": {},
   "outputs": [],
   "source": [
    "def divide():\n",
    "    pass\n",
    "\n",
    "divide(6, 2)  # Should print: The result is 3.0\n",
    "divide(6, 0)  # Should print: Sorry, you can't divide by zero."
   ]
  },
  {
   "attachments": {},
   "cell_type": "markdown",
   "metadata": {},
   "source": [
    "# Exercise: Exception Handling with `finally`\n",
    "\n",
    "The `finally` clause in a `try`...`except` statement will always run, whether an exception has occurred or not. Modify the function above to include a `finally` clause that prints \"Division attempted.\""
   ]
  },
  {
   "cell_type": "code",
   "execution_count": null,
   "metadata": {},
   "outputs": [],
   "source": [
    "def divide():\n",
    "    pass\n",
    "\n",
    "divide(6, 2)  # Should print: The result is 3.0 \\\\n Division attempted.\n",
    "divide(6, 0)  # Should print: Sorry, you can't divide by zero. \\\\n Division attempted."
   ]
  },
  {
   "attachments": {},
   "cell_type": "markdown",
   "metadata": {},
   "source": [
    "\n",
    "# Exercise: Raising Exceptions\n",
    "\n",
    "You can use the `raise` statement to throw an exception if a condition occurs. The statement can be complemented with a custom exception. Write a function that raises an exception if the input is a negative number.\n"
   ]
  },
  {
   "cell_type": "code",
   "execution_count": null,
   "metadata": {},
   "outputs": [],
   "source": [
    "def check_positive():\n",
    "    pass\n",
    "\n",
    "check_positive(10)  # Should print: The value is positive\n",
    "check_positive(-1)  # Should raise a ValueError with the message: Negative value not allowed: -1"
   ]
  },
  {
   "attachments": {},
   "cell_type": "markdown",
   "metadata": {},
   "source": [
    "\n",
    "\n",
    "These are basic exercises to understand the handling of exceptions in Python. You can create more complex scenarios to understand these concepts better\n"
   ]
  },
  {
   "attachments": {},
   "cell_type": "markdown",
   "metadata": {},
   "source": [
    "> Content created by [**Carlos Cruz-Maldonado**](https://www.linkedin.com/in/carloscruzmaldonado/).  \n",
    "> I am available to answer any questions or provide further assistance.   \n",
    "> Feel free to reach out to me at any time.\n"
   ]
  }
 ],
 "metadata": {
  "language_info": {
   "name": "python"
  },
  "orig_nbformat": 4
 },
 "nbformat": 4,
 "nbformat_minor": 2
}
