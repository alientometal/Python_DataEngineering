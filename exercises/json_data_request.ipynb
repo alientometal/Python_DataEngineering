{
 "cells": [
  {
   "cell_type": "markdown",
   "metadata": {},
   "source": [
    "### Exercise: Retrieve and Manage JSON Data from a GitHub Repository\n",
    "\n",
    "#### Objective:\n",
    "In this exercise, you will write a Python script to retrieve JSON data from a specified directory in a GitHub repository. This will test your ability to work with APIs, handle file directories, and manage basic data engineering tasks.\n",
    "\n",
    "#### Instructions:\n",
    "Here is a partially completed script. Your task is to fill in the missing parts of the script to successfully download the files from the GitHub repository.\n",
    "\n",
    "\n",
    "#### Steps to Follow:\n",
    "\n",
    "1. **Setup the repository and branch details:**\n",
    "   - Repository: `alientometal/training_datasets`\n",
    "   - Branch: `main`\n",
    "   - Directory: `data`\n",
    "\n",
    "2. **Complete the Script:**\n",
    "   - Fill in the missing parts of the provided script to download the files from the specified GitHub directory.\n",
    "   - Ensure that the script handles the creation of the local directory if it does not exist.\n",
    "   - Write a function to download individual files from the GitHub repository."
   ]
  },
  {
   "cell_type": "code",
   "execution_count": null,
   "metadata": {},
   "outputs": [],
   "source": [
    "import os\n",
    "import requests\n",
    "\n",
    "repo = \n",
    "branch = \n",
    "directory = \n",
    "\n",
    "def download_directory_from_github(repo, directory, branch='main', local_dir='local_s3_like_directory'):\n",
    "    api_url = f'https://api.github.com/repos/{repo}/contents/{directory}?ref={branch}'\n",
    "    headers = {'Accept': 'application/vnd.github.v3+json'}\n",
    "    \n",
    "    # Send a GET request to the GitHub API\n",
    "\n",
    "    # Raise an exception if the request was unsuccessful\n",
    "\n",
    "    # Parse the JSON response\n",
    "\n",
    "\n",
    "    # Create the local directory if it doesn't exist\n",
    "\n",
    "        \n",
    "\n",
    "    for item in contents:\n",
    "        if item['type'] == 'file':\n",
    "            file_url = item['download_url']\n",
    "            local_path = os.path.join(local_dir, item['name'])\n",
    "            # Call the function to download the file\n",
    "\n",
    "\n",
    "# Define the function to download the file\n",
    "def download_file(url, local_path):\n",
    "    # Send a GET request to download the file\n",
    "\n",
    "    # Raise an exception if the request was unsuccessful\n",
    "\n",
    "    # Write the file content to the local path\n",
    "    with open(local_path, 'wb') as file:\n",
    "\n",
    "    print(f\"Downloaded {local_path}\")\n",
    "\n",
    "# Call the function to start the download process\n"
   ]
  },
  {
   "cell_type": "markdown",
   "metadata": {},
   "source": [
    "#### Additional Challenges (Optional):\n",
    "- Modify the script to download files from multiple directories within the repository.\n",
    "- Enhance the script to handle different file formats, such as CSV or XML, in addition to JSON.\n",
    "- Add logging functionality to track the progress and any errors during the download process.\n",
    "\n",
    "Good luck!"
   ]
  }
 ],
 "metadata": {
  "kernelspec": {
   "display_name": "base",
   "language": "python",
   "name": "python3"
  },
  "language_info": {
   "codemirror_mode": {
    "name": "ipython",
    "version": 3
   },
   "file_extension": ".py",
   "mimetype": "text/x-python",
   "name": "python",
   "nbconvert_exporter": "python",
   "pygments_lexer": "ipython3",
   "version": "3.9.12"
  }
 },
 "nbformat": 4,
 "nbformat_minor": 2
}
