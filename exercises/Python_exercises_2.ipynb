{
 "cells": [
  {
   "attachments": {},
   "cell_type": "markdown",
   "metadata": {},
   "source": [
    "## Control Structures: \n",
    "1. Use if-else statements to check if a number is even or odd \n",
    "2. Use for loops to iterate through a list and print its elements \n",
    "3. Use while loops to print the first 10 numbers in the Fibonacci sequence \n",
    "4. Use the built-in functions `min()`, `max()`, and `sorted()` to perform operations on a list of numbers\n",
    "5. Nest control structures inside each other to solve a problem (e.g. find the largest number in a list)"
   ]
  },
  {
   "attachments": {},
   "cell_type": "markdown",
   "metadata": {},
   "source": [
    "> Content created by [**Carlos Cruz-Maldonado**](https://www.linkedin.com/in/carloscruzmaldonado/).  \n",
    "> I am available to answer any questions or provide further assistance.   \n",
    "> Feel free to reach out to me at any time."
   ]
  }
 ],
 "metadata": {
  "language_info": {
   "name": "python"
  },
  "orig_nbformat": 4
 },
 "nbformat": 4,
 "nbformat_minor": 2
}
